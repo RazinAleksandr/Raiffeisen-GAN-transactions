{
  "cells": [
    {
      "cell_type": "code",
      "execution_count": 3,
      "metadata": {
        "id": "lbVtcVsOx6jz"
      },
      "outputs": [],
      "source": [
        "import torch\n",
        "from torch import nn\n",
        "import torch.optim as optim\n",
        "from tqdm import tqdm\n",
        "import numpy as np\n",
        "\n",
        "import pickle\n",
        "import pandas as pd"
      ]
    },
    {
      "cell_type": "code",
      "execution_count": 10,
      "metadata": {
        "id": "sVytAPvyl0RH"
      },
      "outputs": [],
      "source": [
        "df = pd.read_csv('dummies_data_1.csv')\n",
        "df = df.iloc[0:753305, :]"
      ]
    },
    {
      "cell_type": "code",
      "source": [
        "df.shape"
      ],
      "metadata": {
        "colab": {
          "base_uri": "https://localhost:8080/"
        },
        "id": "5kR2NxpJ2nri",
        "outputId": "c229b748-060e-43ba-fd4c-b57f5dffdfc5"
      },
      "execution_count": 11,
      "outputs": [
        {
          "output_type": "execute_result",
          "data": {
            "text/plain": [
              "(753305, 53)"
            ]
          },
          "metadata": {},
          "execution_count": 11
        }
      ]
    },
    {
      "cell_type": "markdown",
      "metadata": {
        "id": "23Y12WQkzNQE"
      },
      "source": [
        "# Generator"
      ]
    },
    {
      "cell_type": "code",
      "execution_count": 15,
      "metadata": {
        "id": "NWzw--JjzGLv"
      },
      "outputs": [],
      "source": [
        "class Generator(nn.Module):\n",
        "    def __init__(self, latent_dim, output_activation=None):\n",
        "        \"\"\"A generator for mapping a latent space to a sample space\"\"\"\n",
        "        super(Generator, self).__init__()\n",
        "        self.linear1 = nn.Linear(latent_dim, 159)\n",
        "        self.leaky_relu = nn.LeakyReLU()\n",
        "        self.linear2 = nn.Linear(159, 106)\n",
        "        self.linear3 = nn.Linear(106, 53)\n",
        "        self.output_activation = output_activation\n",
        "\n",
        "    def forward(self, input_tensor):\n",
        "        \"\"\"Forward pass; map latent vectors to samples\"\"\"\n",
        "        intermediate = self.linear1(input_tensor)\n",
        "        intermediate = self.leaky_relu(intermediate)\n",
        "        intermediate = self.linear2(intermediate)\n",
        "        intermediate = self.leaky_relu(intermediate)\n",
        "        intermediate = self.linear3(intermediate)\n",
        "        if self.output_activation is not None:\n",
        "            intermediate = self.output_activation(intermediate)\n",
        "        return intermediate"
      ]
    },
    {
      "cell_type": "markdown",
      "metadata": {
        "id": "XY2vKKsHzc5b"
      },
      "source": [
        "# Discriminator"
      ]
    },
    {
      "cell_type": "code",
      "execution_count": 16,
      "metadata": {
        "id": "Xg3yN5YRzciA"
      },
      "outputs": [],
      "source": [
        "class Discriminator(nn.Module):\n",
        "    def __init__(self, input_dim, layers):\n",
        "        \"\"\"A discriminator for discerning real from generated samples\"\"\"\n",
        "        super(Discriminator, self).__init__()\n",
        "        self.input_dim = input_dim\n",
        "        self._init_layers(layers)\n",
        "\n",
        "    def _init_layers(self, layers):\n",
        "        \"\"\"Initialize the layers and store as self.module_list\"\"\"\n",
        "        self.module_list = nn.ModuleList()\n",
        "        last_layer = self.input_dim\n",
        "        for index, width in enumerate(layers):\n",
        "            self.module_list.append(nn.Linear(last_layer, width))\n",
        "            last_layer = width\n",
        "            if index + 1 != len(layers):\n",
        "                self.module_list.append(nn.LeakyReLU())\n",
        "        else:\n",
        "            self.module_list.append(nn.Sigmoid())\n",
        "\n",
        "    def forward(self, input_tensor):\n",
        "        \"\"\"Forward pass; map samples to confidence they are real [0, 1]\"\"\"\n",
        "        intermediate = input_tensor\n",
        "        for layer in self.module_list:\n",
        "            intermediate = layer(intermediate)\n",
        "        return intermediate"
      ]
    },
    {
      "cell_type": "markdown",
      "metadata": {
        "id": "Ia1vaZdxztqm"
      },
      "source": [
        "# VanillaGAN"
      ]
    },
    {
      "cell_type": "code",
      "execution_count": 17,
      "metadata": {
        "id": "uFqMYHgbzW-5"
      },
      "outputs": [],
      "source": [
        "class VanillaGAN():\n",
        "    def __init__(self, generator, discriminator, noise_fn, data_fn,\n",
        "                 batch_size=32, device='cpu', lr_d=1e-3, lr_g=2e-4):\n",
        "        \"\"\"A GAN class for holding and training a generator and discriminator\"\"\"\n",
        "        self.generator = generator\n",
        "        self.generator = self.generator.to(device)\n",
        "        self.discriminator = discriminator\n",
        "        self.discriminator = self.discriminator.to(device)\n",
        "        self.noise_fn = noise_fn\n",
        "        self.data_fn = data_fn\n",
        "        self.batch_size = batch_size\n",
        "        self.device = device\n",
        "        self.criterion = nn.BCELoss()\n",
        "        self.optim_d = optim.Adam(discriminator.parameters(),\n",
        "                                  lr=lr_d, betas=(0.5, 0.999))\n",
        "        self.optim_g = optim.Adam(generator.parameters(),\n",
        "                                  lr=lr_g, betas=(0.5, 0.999))\n",
        "        self.target_ones = torch.ones((batch_size, 53)).to(device)\n",
        "        self.target_zeros = torch.zeros((batch_size, 53)).to(device)\n",
        "\n",
        "    def generate_samples(self, latent_vec=None, num=None):\n",
        "        \"\"\"Sample from the generator\"\"\"\n",
        "        num = self.batch_size if num is None else num\n",
        "        latent_vec = self.noise_fn(num) if latent_vec is None else latent_vec\n",
        "        with torch.no_grad():\n",
        "            samples = self.generator(latent_vec)\n",
        "        return samples\n",
        "\n",
        "    def train_step_generator(self):\n",
        "        \"\"\"Train the generator one step and return the loss\"\"\"\n",
        "        self.generator.zero_grad()\n",
        "\n",
        "        latent_vec = self.noise_fn(self.batch_size)\n",
        "        generated = self.generator(latent_vec)\n",
        "        classifications = self.discriminator(generated)\n",
        "        loss = self.criterion(classifications, self.target_ones)\n",
        "        loss.backward()\n",
        "        self.optim_g.step()\n",
        "        return loss.item()\n",
        "\n",
        "    def train_step_discriminator(self):\n",
        "        \"\"\"Train the discriminator one step and return the losses\"\"\"\n",
        "        self.discriminator.zero_grad()\n",
        "        # real samples\n",
        "        real_samples = self.data_fn(self.batch_size)\n",
        " \n",
        "        pred_real = self.discriminator(real_samples)\n",
        "        loss_real = self.criterion(pred_real, self.target_ones)\n",
        "\n",
        "        # generated samples\n",
        "        latent_vec = self.noise_fn(self.batch_size)\n",
        "        with torch.no_grad():\n",
        "            fake_samples = self.generator(latent_vec)\n",
        "        pred_fake = self.discriminator(fake_samples)\n",
        "        loss_fake = self.criterion(pred_fake, self.target_zeros)\n",
        "\n",
        "        # combine\n",
        "        loss = (loss_real + loss_fake) / 2\n",
        "        loss.backward()\n",
        "        self.optim_d.step()\n",
        "        return loss_real.item(), loss_fake.item()\n",
        "\n",
        "    def train_step(self):\n",
        "        \"\"\"Train both networks and return the losses\"\"\"\n",
        "        loss_d = self.train_step_discriminator()\n",
        "        loss_g = self.train_step_generator()\n",
        "        return loss_g, loss_d"
      ]
    },
    {
      "cell_type": "markdown",
      "metadata": {
        "id": "5TL0eTgt3nZd"
      },
      "source": [
        "# Put together"
      ]
    },
    {
      "cell_type": "code",
      "execution_count": 12,
      "metadata": {
        "id": "EOULYUdeFB77"
      },
      "outputs": [],
      "source": [
        "def data_fn(batches):\n",
        "    global start_batch, length_data\n",
        "    data_batch = df.iloc[start_batch:start_batch + batches, :].to_numpy().astype(np.float32)\n",
        "    start_batch += batches\n",
        "    return torch.from_numpy(data_batch).to('cpu')"
      ]
    },
    {
      "cell_type": "code",
      "execution_count": 18,
      "metadata": {
        "id": "G3WYMRjlzyhA",
        "colab": {
          "base_uri": "https://localhost:8080/"
        },
        "outputId": "37f70e59-c95f-49f3-8d36-c74c5e3518c0"
      },
      "outputs": [
        {
          "output_type": "stream",
          "name": "stdout",
          "text": [
            "Epoch 1/5 (68s): G=24608.870, Dr=47347.400, Df=1.173\n",
            "Epoch 2/5 (136s): G=61494.286, Dr=61493.162, Df=0.000\n",
            "Epoch 3/5 (206s): G=61494.286, Dr=61493.149, Df=0.000\n",
            "Epoch 4/5 (289s): G=61494.286, Dr=61492.976, Df=0.000\n",
            "Epoch 5/5 (356s): G=5605.045, Dr=33697.327, Df=301.015\n"
          ]
        }
      ],
      "source": [
        "from time import time\n",
        "epochs = 5\n",
        "batches = 35\n",
        "generator = Generator(53)\n",
        "discriminator = Discriminator(53, [159, 106, 53])\n",
        "noise_fn = lambda x: torch.rand((x, 53), device='cpu')\n",
        "length_data = df.shape[0]\n",
        "gan = VanillaGAN(generator, discriminator, noise_fn, data_fn, batches, device='cpu')\n",
        "loss_g, loss_d_real, loss_d_fake = [], [], []\n",
        "start = time()\n",
        "for epoch in range(epochs):\n",
        "    start_batch = 0\n",
        "    loss_g_running, loss_d_real_running, loss_d_fake_running = 0, 0, 0\n",
        "    for batch in range(length_data // batches):\n",
        "        lg_, (ldr_, ldf_) = gan.train_step()\n",
        "        loss_g_running += lg_\n",
        "        loss_d_real_running += ldr_\n",
        "        loss_d_fake_running += ldf_\n",
        "    loss_g.append(loss_g_running / batches)\n",
        "    loss_d_real.append(loss_d_real_running / batches)\n",
        "    loss_d_fake.append(loss_d_fake_running / batches)\n",
        "    print(f\"Epoch {epoch+1}/{epochs} ({int(time() - start)}s):\"\n",
        "        f\" G={loss_g[-1]:.3f},\"\n",
        "        f\" Dr={loss_d_real[-1]:.3f},\"\n",
        "        f\" Df={loss_d_fake[-1]:.3f}\")"
      ]
    },
    {
      "cell_type": "code",
      "execution_count": 19,
      "metadata": {
        "id": "klNKpvnV4n7h"
      },
      "outputs": [],
      "source": [
        "generated_samples = gan.generate_samples(num=1).cpu().numpy()\n"
      ]
    },
    {
      "cell_type": "code",
      "execution_count": 20,
      "metadata": {
        "colab": {
          "base_uri": "https://localhost:8080/"
        },
        "id": "RBYTqgSv-BYS",
        "outputId": "95186a27-6f01-4847-b6c1-57022ff8b3b2"
      },
      "outputs": [
        {
          "output_type": "execute_result",
          "data": {
            "text/plain": [
              "array([[ 1.2350484e+02,  1.4096575e+00,  4.9467897e+00, -2.5002880e+00,\n",
              "         4.5303035e+00,  7.9789171e+00, -2.9454010e+00,  5.0018346e-01,\n",
              "         8.6151773e-01, -4.5869684e+00, -1.2231378e+01, -5.4069657e+00,\n",
              "         1.1816949e+01, -6.3610392e+00,  4.6811323e+00,  3.1741593e+00,\n",
              "        -5.2092929e+00, -1.3620521e+00, -8.7754126e+00,  9.1118164e+00,\n",
              "        -2.9528558e+00,  1.0148350e+01,  2.1381004e+00, -6.4488797e+00,\n",
              "        -2.8645508e+00, -7.6953536e-01,  4.6907535e+00, -3.6098516e+00,\n",
              "         2.7437675e+00, -8.0166674e+00,  7.1550541e-02, -1.2247552e+00,\n",
              "        -5.4691935e+00,  3.0750759e+00,  1.0432886e+01, -8.5669136e+00,\n",
              "        -1.2513848e+01,  3.8519418e+00, -3.7671458e-02,  1.0727370e+00,\n",
              "         6.0059862e+00,  5.7001381e+00,  7.8552852e+00,  6.8618016e+00,\n",
              "        -4.2021661e+00, -7.0804864e-01,  9.2491751e+00,  5.7030454e+00,\n",
              "         1.1312075e+00, -1.9444726e-01, -1.0848482e+01,  6.1816282e+00,\n",
              "         1.4729663e+00]], dtype=float32)"
            ]
          },
          "metadata": {},
          "execution_count": 20
        }
      ],
      "source": [
        "generated_samples"
      ]
    },
    {
      "cell_type": "code",
      "execution_count": null,
      "metadata": {
        "id": "e2NhBq0F-BVs"
      },
      "outputs": [],
      "source": []
    },
    {
      "cell_type": "code",
      "execution_count": null,
      "metadata": {
        "id": "LD478nQa-BQ2"
      },
      "outputs": [],
      "source": []
    },
    {
      "cell_type": "code",
      "execution_count": null,
      "metadata": {
        "id": "uZDHn9NS-BOc"
      },
      "outputs": [],
      "source": []
    },
    {
      "cell_type": "code",
      "execution_count": null,
      "metadata": {
        "id": "fjBdlLHD-BL_"
      },
      "outputs": [],
      "source": []
    }
  ],
  "metadata": {
    "accelerator": "GPU",
    "colab": {
      "collapsed_sections": [],
      "provenance": []
    },
    "gpuClass": "standard",
    "kernelspec": {
      "display_name": "Python 3 (ipykernel)",
      "language": "python",
      "name": "python3"
    },
    "language_info": {
      "codemirror_mode": {
        "name": "ipython",
        "version": 3
      },
      "file_extension": ".py",
      "mimetype": "text/x-python",
      "name": "python",
      "nbconvert_exporter": "python",
      "pygments_lexer": "ipython3",
      "version": "3.9.7"
    }
  },
  "nbformat": 4,
  "nbformat_minor": 0
}